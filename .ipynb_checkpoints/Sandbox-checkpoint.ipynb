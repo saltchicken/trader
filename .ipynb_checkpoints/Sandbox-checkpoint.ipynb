{
 "cells": [
  {
   "cell_type": "code",
   "execution_count": 4,
   "id": "b11f34f6-4011-41ce-aa5f-d44c27412b8e",
   "metadata": {},
   "outputs": [],
   "source": [
    "from trader import Trader\n",
    "\n",
    "import nest_asyncio\n",
    "nest_asyncio.apply()"
   ]
  },
  {
   "cell_type": "code",
   "execution_count": 5,
   "id": "04c838aa-67a7-48da-9ba2-ce6b444819b2",
   "metadata": {},
   "outputs": [],
   "source": [
    "trader = Trader()"
   ]
  },
  {
   "cell_type": "code",
   "execution_count": null,
   "id": "39512763-7172-4242-9112-bc9802737a9b",
   "metadata": {},
   "outputs": [],
   "source": [
    "# trader.alpaca.cancel_all_open_orders()"
   ]
  },
  {
   "cell_type": "code",
   "execution_count": null,
   "id": "7108e401-0b3e-41fd-814f-0f4298410a9a",
   "metadata": {},
   "outputs": [],
   "source": [
    "for order in trader.alpaca.orders:\n",
    "    print(order.symbol, order.qty, order.side, order.status, order.type)\n"
   ]
  },
  {
   "cell_type": "code",
   "execution_count": null,
   "id": "44429b53-e669-41d1-a79a-be8d72651c71",
   "metadata": {},
   "outputs": [],
   "source": [
    "# trader.alpaca.order_buy_market_bracket(\"AAPL\", 100, 150, 140)\n"
   ]
  },
  {
   "cell_type": "code",
   "execution_count": null,
   "id": "34ad0e25-7d5b-4f29-ad63-abadf2f12f70",
   "metadata": {},
   "outputs": [],
   "source": []
  }
 ],
 "metadata": {
  "kernelspec": {
   "display_name": "Python 3 (ipykernel)",
   "language": "python",
   "name": "python3"
  },
  "language_info": {
   "codemirror_mode": {
    "name": "ipython",
    "version": 3
   },
   "file_extension": ".py",
   "mimetype": "text/x-python",
   "name": "python",
   "nbconvert_exporter": "python",
   "pygments_lexer": "ipython3",
   "version": "3.11.12"
  }
 },
 "nbformat": 4,
 "nbformat_minor": 5
}
